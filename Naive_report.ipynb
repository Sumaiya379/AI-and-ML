{
  "nbformat": 4,
  "nbformat_minor": 0,
  "metadata": {
    "colab": {
      "provenance": [],
      "authorship_tag": "ABX9TyNbO6p6z1demoVd78b4y+S/",
      "include_colab_link": true
    },
    "kernelspec": {
      "name": "python3",
      "display_name": "Python 3"
    },
    "language_info": {
      "name": "python"
    }
  },
  "cells": [
    {
      "cell_type": "markdown",
      "metadata": {
        "id": "view-in-github",
        "colab_type": "text"
      },
      "source": [
        "<a href=\"https://colab.research.google.com/github/Sumaiya379/AI-and-ML/blob/main/Naive_report.ipynb\" target=\"_parent\"><img src=\"https://colab.research.google.com/assets/colab-badge.svg\" alt=\"Open In Colab\"/></a>"
      ]
    },
    {
      "cell_type": "code",
      "source": [
        "import pandas as pd\n",
        "import numpy as np\n",
        "import string\n",
        "from sklearn.model_selection import train_test_split\n",
        "from sklearn.feature_extraction.text import CountVectorizer\n",
        "from sklearn.naive_bayes import MultinomialNB\n",
        "from sklearn.metrics import confusion_matrix, accuracy_score\n",
        "\n",
        "#Load dataset & Preprocessing\n",
        "df=pd.read_csv(\"news_category.csv\")\n",
        "df.rename(columns={'Label ': 'Label', 'Message': 'Message'}, inplace=True)\n",
        "df['Label'] = df['Label'].map({'Sports': 0, 'Politics': 1})\n",
        "df.head()\n",
        "print(\"\\nSample before preprocessing:\\n\", df.head())\n",
        "def preprocess_text(Message):\n",
        "    # Lowercase\n",
        "    Message = Message.lower()\n",
        "    # Remove punctuation\n",
        "    Message = \"\".join([char for char in Message if char not in string.punctuation])\n",
        "    return Message\n",
        "\n",
        "df['Message'] = df['Message'].apply(preprocess_text)\n",
        "\n",
        "print(\"\\nSample after preprocessing:\\n\", df['Message'].head())\n",
        "\n",
        "#Train/test split\n",
        "\n",
        "X_train, X_test, y_train, y_test = train_test_split(df['Message'],df['Label'],test_size=0.25,random_state=1)\n",
        "\n",
        "print(f\"\\nOriginal dataset contains {df.shape[0]} news articles\")\n",
        "print(f\"Training set contains {X_train.shape[0]} articles\")\n",
        "print(f\"Testing set contains {X_test.shape[0]} articles\")\n",
        "\n",
        "\n",
        "#Convert to Bag of Words\n",
        "\n",
        "count_vector = CountVectorizer()\n",
        "train_matrix = count_vector.fit_transform(X_train)\n",
        "test_matrix = count_vector.transform(X_test)\n",
        "\n",
        "#Train Naïve Bayes classifier\n",
        "naive_bayes = MultinomialNB()\n",
        "naive_bayes.fit(train_matrix, y_train)\n",
        "\n",
        "# 8. Predictions & accuracy\n",
        "predictions = naive_bayes.predict(test_matrix)\n",
        "accuracy = accuracy_score(y_test, predictions)\n",
        "print(f\"\\nAccuracy on Test: {accuracy:.2f}\")\n",
        "cm = confusion_matrix(y_test, predictions)\n",
        "print(\"\\nConfusion Matrix:\")\n",
        "print(cm)"
      ],
      "metadata": {
        "colab": {
          "base_uri": "https://localhost:8080/"
        },
        "id": "AXUxujljVkWf",
        "outputId": "fb14211a-ef75-41fb-f8db-5e826d140e8a",
        "collapsed": true
      },
      "execution_count": null,
      "outputs": [
        {
          "output_type": "stream",
          "name": "stdout",
          "text": [
            "\n",
            "Sample before preprocessing:\n",
            "    Label                                            Message\n",
            "0      0  Asia Cup: Bangladesh to play all group matches...\n",
            "1      1  Chaos, gangs, gunfire: Gaza aid fails to reach...\n",
            "2      0     Proposed two-tier system a test for Bangladesh\n",
            "3      0  Zayyan Ahmed, a USA-based footballer, has join...\n",
            "4      1  A total of 29 registered political parties, in...\n",
            "\n",
            "Sample after preprocessing:\n",
            " 0    asia cup bangladesh to play all group matches ...\n",
            "1    chaos gangs gunfire gaza aid fails to reach mo...\n",
            "2        proposed twotier system a test for bangladesh\n",
            "3    zayyan ahmed a usabased footballer has joined ...\n",
            "4    a total of 29 registered political parties inc...\n",
            "Name: Message, dtype: object\n",
            "\n",
            "Original dataset contains 100 news articles\n",
            "Training set contains 75 articles\n",
            "Testing set contains 25 articles\n",
            "\n",
            "Accuracy on Test: 0.80\n",
            "\n",
            "Confusion Matrix:\n",
            "[[11  3]\n",
            " [ 2  9]]\n"
          ]
        }
      ]
    }
  ]
}